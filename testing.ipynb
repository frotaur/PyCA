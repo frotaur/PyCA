{
 "cells": [
  {
   "cell_type": "code",
   "execution_count": 1,
   "metadata": {},
   "outputs": [
    {
     "name": "stdout",
     "output_type": "stream",
     "text": [
      "pygame 2.6.1 (SDL 2.28.4, Python 3.13.1)\n",
      "Hello from the pygame community. https://www.pygame.org/contribute.html\n"
     ]
    }
   ],
   "source": [
    "import time, json\n",
    "import numpy as np\n",
    "from Automata.models import (\n",
    "    CA1D, \n",
    "    GeneralCA1D, \n",
    "    CA2D, \n",
    "    Baricelli1D,\n",
    "    Baricelli2D, \n",
    "    LGCA, \n",
    "    FallingSand, \n",
    "    MultiLenia,\n",
    "    NCA\n",
    ")\n",
    "from Automata.models.ReactionDiffusion import (\n",
    "    GrayScott, \n",
    "    BelousovZhabotinsky, \n",
    "    Brusselator\n",
    ")"
   ]
  },
  {
   "cell_type": "code",
   "execution_count": 2,
   "metadata": {},
   "outputs": [],
   "source": [
    "# Define automaton classes without instantiating\n",
    "automaton_options = {\n",
    "    \"CA2D\":         lambda h, w: CA2D((h,w), b_num='3', s_num='23', random=True, device='cuda'),\n",
    "    \"CA1D\":         lambda h, w: CA1D((h,w), wolfram_num=90, random=True),\n",
    "    \"GeneralCA1D\":  lambda h, w: GeneralCA1D((h,w), wolfram_num=1203, r=3, k=3, random=True),\n",
    "    \"LGCA\":         lambda h, w: LGCA((h,w), device='cuda'),\n",
    "    \"Gray-Scott\":   lambda h, w: GrayScott((h,w), device='cuda'),\n",
    "    \"Belousov-Zhabotinsky\": lambda h, w: BelousovZhabotinsky((h,w), device='cuda'),\n",
    "    \"Brusselator\":  lambda h, w: Brusselator((h,w), device='cuda'),\n",
    "    \"Falling Sand\": lambda h, w: FallingSand((h,w)),\n",
    "    \"Baricelli 2D\": lambda h, w: Baricelli2D((h,w), n_species=7, reprod_collision=True, device='cuda'),\n",
    "    \"Baricelli 1D\": lambda h, w: Baricelli1D((h,w), n_species=8, reprod_collision=True),\n",
    "    \"MultiLenia\":   lambda h, w: MultiLenia((h,w), param_path='LeniaParams', device='cuda'),\n",
    "    # \"Neural CA\":  lambda h, w: NCA((h,w), model_path='NCA_train/trained_model/latestNCA.pt', device='cuda')\n",
    "}\n",
    "\n",
    "H, W = 300,300\n",
    "# Then when initializing the first automaton:\n",
    "initial_automaton = \"CA2D\"\n",
    "auto = automaton_options[initial_automaton](H, W)\n",
    "auto.step() # step the automaton\n",
    "auto.draw() # draw the worldstate\n",
    "world_state = auto.worldmap\n",
    "\n",
    "def generate():\n",
    "    while True: \n",
    "        time.sleep(0.01)\n",
    "        auto.step()\n",
    "        auto.draw()\n",
    "        world_state = auto.worldmap  # Should be (H,W,3) numpy array            \n",
    "        if world_state.dtype != np.uint8:\n",
    "            world_state = (world_state * 255).astype(np.uint8)\n",
    "        \n",
    "        frame_data = {\n",
    "            \"frame\": world_state.tolist(),\n",
    "            \"dimensions\": {\n",
    "                \"height\": world_state.shape[0],\n",
    "                \"width\": world_state.shape[1],\n",
    "                \"channels\": world_state.shape[2]\n",
    "            },\n",
    "            \"timestamp\": time.time()\n",
    "        }\n",
    "        \n",
    "        yield f\"data: {json.dumps(frame_data)}\\n\\n\""
   ]
  },
  {
   "cell_type": "code",
   "execution_count": 3,
   "metadata": {},
   "outputs": [],
   "source": [
    "auto.step()\n",
    "auto.draw()\n",
    "world_state = auto.worldmap  # Should be (H,W,3) numpy array            \n",
    "if world_state.dtype != np.uint8:\n",
    "    world_state = (world_state * 255).astype(np.uint8)\n",
    "\n",
    "frame_data = {\n",
    "    \"frame\": world_state.tolist(),\n",
    "    \"dimensions\": {\n",
    "        \"height\": world_state.shape[0],\n",
    "        \"width\": world_state.shape[1],\n",
    "        \"channels\": world_state.shape[2]\n",
    "    },\n",
    "    \"timestamp\": time.time()\n",
    "}\n"
   ]
  },
  {
   "cell_type": "code",
   "execution_count": 14,
   "metadata": {},
   "outputs": [
    {
     "data": {
      "text/plain": [
       "array([[0, 0, 0],\n",
       "       [0, 0, 0],\n",
       "       [0, 0, 0],\n",
       "       ...,\n",
       "       [0, 0, 0],\n",
       "       [0, 0, 0],\n",
       "       [0, 0, 0]], shape=(90000, 3), dtype=uint8)"
      ]
     },
     "execution_count": 14,
     "metadata": {},
     "output_type": "execute_result"
    }
   ],
   "source": [
    "world_state.reshape((world_state.shape[0]*world_state.shape[1], 3))"
   ]
  }
 ],
 "metadata": {
  "kernelspec": {
   "display_name": "env",
   "language": "python",
   "name": "python3"
  },
  "language_info": {
   "codemirror_mode": {
    "name": "ipython",
    "version": 3
   },
   "file_extension": ".py",
   "mimetype": "text/x-python",
   "name": "python",
   "nbconvert_exporter": "python",
   "pygments_lexer": "ipython3",
   "version": "3.13.1"
  }
 },
 "nbformat": 4,
 "nbformat_minor": 2
}
